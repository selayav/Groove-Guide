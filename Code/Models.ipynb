{
 "cells": [
  {
   "cell_type": "code",
   "execution_count": null,
   "metadata": {},
   "outputs": [],
   "source": [
    "import numpy as np\n",
    "import json\n",
    "import matplotlib.pyplot as plt\n",
    "from sklearn.model_selection import train_test_split\n",
    "from tensorflow.keras.models import Sequential, Model\n",
    "from tensorflow.keras.layers import Dense, Dropout, Conv2D, MaxPooling2D, Flatten, BatchNormalization, Bidirectional, LSTM, Reshape\n",
    "from tensorflow.keras.optimizers import Adam\n",
    "from tensorflow.keras.callbacks import EarlyStopping\n",
    "from tensorflow.keras.preprocessing.image import ImageDataGenerator"
   ]
  },
  {
   "cell_type": "code",
   "execution_count": null,
   "metadata": {},
   "outputs": [],
   "source": [
    "#Get data and split into train, test, validate\n",
    "filepath = '/content/drive/MyDrive/QTM_347_Proj/Data/data.json'\n",
    "with open(filepath, \"r\") as fp:\n",
    "    data = json.load(fp)\n",
    "X = np.array(data[\"mfcc\"])\n",
    "y = np.array(data[\"genre_num\"])\n",
    "X_train, X_test, y_train, y_test = train_test_split(X, y, test_size=0.3, random_state=42, stratify=y)\n",
    "X_train, X_val, y_train, y_val = train_test_split(X_train, y_train, test_size=0.3, random_state=42, stratify=y_train)\n",
    "\n",
    "print(f\"X training data shape: {X_train.shape}, y training data shape: {y_train.shape}\")\n",
    "print(f\"X validation data shape: {X_val.shape}, y validation data shape: {y_val.shape}\")"
   ]
  },
  {
   "cell_type": "code",
   "execution_count": null,
   "metadata": {},
   "outputs": [],
   "source": [
    "#Format data for CNN model\n",
    "X_train_cnn = X_train[..., np.newaxis]\n",
    "X_val_cnn = X_val[..., np.newaxis]\n",
    "X_test_cnn = X_test[..., np.newaxis]\n",
    "\n",
    "input_shape = X_train_cnn.shape[1:4]"
   ]
  },
  {
   "cell_type": "code",
   "execution_count": null,
   "metadata": {},
   "outputs": [],
   "source": [
    "#Build CNN Model\n",
    "model_cnn = Sequential()\n",
    "\n",
    "model_cnn.add(Conv2D(32, 3, activation='relu', input_shape=input_shape)) # first hidden conv layer\n",
    "model_cnn.add(BatchNormalization())\n",
    "model_cnn.add(MaxPooling2D(3, strides=(2,2), padding='same')) # MaxPool the results\n",
    "model_cnn.add(Dropout(0.2))\n",
    "\n",
    "model_cnn.add(Conv2D(64, 3, activation='relu'))\n",
    "model_cnn.add(BatchNormalization())\n",
    "model_cnn.add(MaxPooling2D(3, strides=(2,2), padding='same'))\n",
    "model_cnn.add(Dropout(0.1))\n",
    "\n",
    "model_cnn.add(Conv2D(64, 2, activation='relu'))\n",
    "model_cnn.add(BatchNormalization())\n",
    "model_cnn.add(MaxPooling2D(2, strides=(2,2), padding='same'))\n",
    "model_cnn.add(Dropout(0.1))\n",
    "\n",
    "model_cnn.add(Flatten())\n",
    "model_cnn.add(Dense(128, activation='relu'))\n",
    "model_cnn.add(Dropout(0.5))\n",
    "\n",
    "model_cnn.add(Dense(10, activation='softmax'))\n",
    "\n",
    "model_cnn.summary()\n",
    "\n",
    "model_cnn.compile(\n",
    "    optimizer=Adam(learning_rate=0.0001), # can also use 'adam'\n",
    "    loss='sparse_categorical_crossentropy', # loss for multi-class classification\n",
    "    metrics=['acc']\n",
    ")"
   ]
  },
  {
   "cell_type": "code",
   "execution_count": null,
   "metadata": {},
   "outputs": [],
   "source": [
    "#Train CNN model\n",
    "datagen = ImageDataGenerator(vertical_flip=True)\n",
    "es_cnn = EarlyStopping(monitor='val_loss', patience=20, min_delta=0)\n",
    "hist_cnn = model_cnn.fit(\n",
    "    datagen.flow(X_train_cnn, y_train),\n",
    "    validation_data=(X_val_cnn, y_val),\n",
    "    batch_size=64,\n",
    "    epochs=400,\n",
    "    verbose=1,\n",
    "    callbacks=[es_cnn]\n",
    ")"
   ]
  },
  {
   "cell_type": "code",
   "execution_count": null,
   "metadata": {},
   "outputs": [],
   "source": [
    "#Compute test accuracy and loss\n",
    "loss_cnn, acc_cnn = model_cnn.evaluate(X_test_cnn, y_test)\n",
    "print(f\"Test Loss: {loss_cnn}\")\n",
    "print(f\"Test Accuracy: {acc_cnn}\")"
   ]
  },
  {
   "cell_type": "code",
   "execution_count": null,
   "metadata": {},
   "outputs": [],
   "source": [
    "def plot_history(hist):\n",
    "    \"\"\"\n",
    "    Plots the accuracy and loss for a model over the course of all epochs\n",
    "\n",
    "    Parameters:\n",
    "        hist (keras history object): The recorded history of model.fit() to be plotted\n",
    "    \"\"\"\n",
    "    fig, axs = plt.subplots(2, 1, figsize=(8,7))\n",
    "    fig.tight_layout(pad=2)\n",
    "\n",
    "    # Accuracy subplot\n",
    "    axs[0].plot(hist.history[\"acc\"], c='navy', label=\"Training Accuracy\")\n",
    "    axs[0].plot(hist.history[\"val_acc\"], c='orange', label=\"Validation Accuracy\")\n",
    "    axs[0].set_ylabel(\"Accuracy\")\n",
    "    axs[0].legend(loc=\"lower right\")\n",
    "    axs[0].set_title(\"Accuracy\")\n",
    "\n",
    "    # Error subplot\n",
    "    axs[1].plot(hist.history[\"loss\"], c='navy', label=\"Training Loss\")\n",
    "    axs[1].plot(hist.history[\"val_loss\"], c='orange', label=\"Validation Loss\")\n",
    "    axs[1].set_ylabel(\"Loss\")\n",
    "    axs[1].set_xlabel(\"Epochs\")\n",
    "    axs[1].legend(loc=\"upper right\")\n",
    "    axs[1].set_title(\"Loss\")\n",
    "\n",
    "    plt.show()"
   ]
  },
  {
   "cell_type": "code",
   "execution_count": null,
   "metadata": {},
   "outputs": [],
   "source": [
    "#Plot history of training\n",
    "plot_history(hist_cnn)"
   ]
  },
  {
   "cell_type": "code",
   "execution_count": null,
   "metadata": {},
   "outputs": [],
   "source": [
    "#Save CNN model\n",
    "model_cnn.save('/content/drive/MyDrive/QTM_347_Proj/Model/model_cnn.h5')"
   ]
  },
  {
   "cell_type": "code",
   "execution_count": null,
   "metadata": {},
   "outputs": [],
   "source": [
    "#Prepare CNN model for LSTM addition\n",
    "for layer in model_cnn.layers:\n",
    "    layer.trainable = False\n",
    "\n",
    "model_cnn_lstm = Model(inputs=model_cnn.inputs, outputs=model_cnn.layers[-5].output)\n",
    "layers_to_unfreeze = ['conv2d_8', 'batch_normalization_8', 'max_pooling2d_8', 'dropout_10']\n",
    "\n",
    "for layer in model_cnn_lstm.layers:\n",
    "    layer.trainable = layer.name in layers_to_unfreeze"
   ]
  },
  {
   "cell_type": "code",
   "execution_count": null,
   "metadata": {},
   "outputs": [],
   "source": [
    "#Build CNN-LSTM Model\n",
    "x = model_cnn_lstm.output\n",
    "x = Reshape((-1, 64))(x)\n",
    "\n",
    "x = Bidirectional(LSTM(256, return_sequences=True))(x)\n",
    "x = BatchNormalization()(x)\n",
    "\n",
    "x = Bidirectional(LSTM(128, return_sequences=True))(x)\n",
    "x = BatchNormalization()(x)\n",
    "\n",
    "x = Bidirectional(LSTM(64))(x)\n",
    "x = BatchNormalization()(x)\n",
    "\n",
    "x = Dense(256, activation='relu')(x)\n",
    "x = BatchNormalization()(x)\n",
    "x = Dense(128, activation='relu')(x)\n",
    "x = BatchNormalization()(x)\n",
    "outputs = Dense(10, activation='softmax')(x)\n",
    "\n",
    "model_cnn_lstm = Model(inputs=model_cnn_lstm.inputs, outputs=outputs)\n",
    "model_cnn_lstm.compile(optimizer=Adam(learning_rate=0.0001),\n",
    "                  loss='sparse_categorical_crossentropy',\n",
    "                  metrics=['acc'])\n",
    "\n",
    "model_cnn_lstm.summary()"
   ]
  },
  {
   "cell_type": "code",
   "execution_count": null,
   "metadata": {},
   "outputs": [],
   "source": [
    "#Train CNN-LSTM Model\n",
    "datagen = ImageDataGenerator(vertical_flip=True)\n",
    "es_cnn_lstm = EarlyStopping(monitor='val_loss', patience=20, min_delta=0)\n",
    "hist_cnn_lstm = model_cnn_lstm.fit(\n",
    "    datagen.flow(X_train_cnn, y_train),\n",
    "    validation_data=(X_val_cnn, y_val),\n",
    "    batch_size=64,\n",
    "    epochs=400,\n",
    "    verbose=1,\n",
    "    callbacks=[es_cnn_lstm]\n",
    ")"
   ]
  },
  {
   "cell_type": "code",
   "execution_count": null,
   "metadata": {},
   "outputs": [],
   "source": [
    "#Comput test accuracy and loss\n",
    "loss_cnn_lstm, acc_cnn_lstm = model_cnn_lstm.evaluate(X_test_cnn, y_test)\n",
    "print(f\"Test Loss: {loss_cnn_lstm}\")\n",
    "print(f\"Test Accuracy: {acc_cnn_lstm}\")"
   ]
  },
  {
   "cell_type": "code",
   "execution_count": null,
   "metadata": {},
   "outputs": [],
   "source": [
    "#Plot history of CNN-LSTM training\n",
    "plot_history(hist_cnn_lstm)"
   ]
  }
 ],
 "metadata": {
  "language_info": {
   "name": "python"
  }
 },
 "nbformat": 4,
 "nbformat_minor": 2
}
